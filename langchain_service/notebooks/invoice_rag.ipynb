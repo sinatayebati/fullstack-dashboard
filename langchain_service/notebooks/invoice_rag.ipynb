{
 "cells": [
  {
   "cell_type": "code",
   "execution_count": 1,
   "metadata": {},
   "outputs": [
    {
     "name": "stderr",
     "output_type": "stream",
     "text": [
      "/Users/sina/.local/share/virtualenvs/langchain_service-n5mYIKcu/lib/python3.9/site-packages/urllib3/__init__.py:35: NotOpenSSLWarning: urllib3 v2 only supports OpenSSL 1.1.1+, currently the 'ssl' module is compiled with 'LibreSSL 2.8.3'. See: https://github.com/urllib3/urllib3/issues/3020\n",
      "  warnings.warn(\n"
     ]
    }
   ],
   "source": [
    "import getpass, os, pymongo, pprint, json\n",
    "from langchain_community.document_loaders import PyPDFLoader\n",
    "from langchain_core.output_parsers import StrOutputParser\n",
    "from langchain_core.runnables import RunnablePassthrough\n",
    "from langchain_mongodb import MongoDBAtlasVectorSearch\n",
    "from langchain_openai import ChatOpenAI, OpenAIEmbeddings\n",
    "from langchain.prompts import PromptTemplate\n",
    "from langchain.text_splitter import RecursiveCharacterTextSplitter\n",
    "from langchain.schema import Document\n",
    "from pymongo import MongoClient\n",
    "from pymongo.operations import SearchIndexModel"
   ]
  },
  {
   "cell_type": "code",
   "execution_count": 8,
   "metadata": {},
   "outputs": [
    {
     "name": "stdout",
     "output_type": "stream",
     "text": [
      "Data downloaded and saved to /Users/sina/Library/Mobile Documents/com~apple~CloudDocs/git_projects/Startup/mern-dashboard/langchain_service/data/data.json\n",
      "\n",
      "First few rows of the data:\n",
      "[\n",
      "  {\n",
      "    \"row_idx\": 0,\n",
      "    \"row\": {\n",
      "      \"image\": {\n",
      "        \"src\": \"https://datasets-server.huggingface.co/cached-assets/mychen76/invoices-and-receipts_ocr_v1/--/83835c87346de32ac9223bdce5264e69ef3366ad/--/default/train/0/image/image.jpg?Expires=1727491824&Signature=Mvgn1Whal7c~-NlQ30jCUgdX60HX1-evjV9VF3JwUMV~z2bMvehUSyLsEEQVdwpH1i49fDPHI~A04Djarsq08JcxZLyw~eOOTbur76DyKrNWtkTz3jT4a~~S4TL8Wa0Mv-8k78IsNysThw9yvFeALTATRGyHJKGy3DLoS0xIWSahDOpWPcxmK8VcLc6XNGCrYjbgDm~cwY8dO~aSiiGJQ4I3fAcWr0EGcKnWlD8y~gsmzgDQn92WgSN-7Beg-9J-ei-~SVBOMf3OPPfKVjjMmFH6VUASmtdBOUcswngFd7lPQ1hdt-KXhxeP~Ca9taxRYnqBETdinS5gbQOVCywwVQ__&Key-Pair-Id=K3EI6M078Z3AC3\",\n",
      "        \"height\": 3508,\n",
      "        \"width\": 2481\n",
      "      },\n",
      "      \"id\": \"0\",\n",
      "      \"parsed_data\": \"{\\\"xml\\\": \\\"\\\", \\\"json\\\": \\\"{'header': {'invoice_no': '40378170', 'invoice_date': '10/15/2012', 'seller': 'Patel, Thompson and Montgomery 356 Kyle Vista New James, MA 46228', 'client': 'Jackson, Odonnell and Jackson 267 John Track Suite 841 Jenniferville, PA 98601', 'seller_tax_id': '958-74-3511', 'client_tax_id': '998-87-7723', 'iban': 'GB77WRBQ31965128414006'}, 'items': [{'item_desc': \\\\\\\"Leed's Wine Companion Bottle Corkscrew Opener Gift Box Set with Foil Cutter\\\\\\\", 'item_qty': '1,00', 'item_net_price': '7,50', 'item_net_worth': '7,50', 'item_vat': '10%', 'item_gross_worth': '8,25'}], 'summary': {'total_net_worth': '$7,50', 'total_vat': '$0,75', 'total_gross_worth': '$8,25'}}\\\", \\\"kie\\\": \\\"\\\"}\",\n",
      "      \"raw_data\": \"{\\\"ocr_words\\\": \\\"['Invoice no: 40378170', 'Date of issue:', '10/15/2012', 'Seller:', 'Client:', 'Patel, Thompson and Montgomery', 'Jackson, Odonnell and Jackson.', '356 Kyle Vista', '267 John Track Suite 841', 'New James, MA 46228', 'Jenniferville, PA 98601', 'Tax Id: 958-74-3511', 'Tax Id: 998-87-7723', 'IBAN: GB77WRBQ31965128414006', 'ITEMS', 'UM', 'No.', 'Description', 'Qty', 'Net price', 'Net worth', 'VAT [%]', 'Gross', 'worth', \\\\\\\" Leed's Wine Companion Bottle\\\\\\\", '1,00', 'each', '7,50', '7,50', '10%', '8,25', 'Corkscrew Opener Gift Box Set', 'with Foil Cutter', 'SUMMARY', 'VAT [%]', 'VAT', 'Net worth', 'Gross worth', '7,50', '10%', '0,75', '8,25', 'Total', '$7,50', '$ 0,75', '$8,25']\\\", \\\"ocr_boxes\\\": \\\"[[[[196.0, 110.0], [801.0, 110.0], [801.0, 161.0], [196.0, 161.0]], ('Invoice no: 40378170', 0.9985853433609009)], [[[196.0, 212.0], [517.0, 212.0], [517.0, 259.0], [196.0, 259.0]], ('Date of issue:', 0.9883247017860413)], [[[1204.0, 216.0], [1466.0, 216.0], [1466.0, 256.0], [1204.0, 256.0]], ('10/15/2012', 0.9997990727424622)], [[[192.0, 665.0], [388.0, 665.0], [388.0, 716.0], [192.0, 716.0]], ('Seller:', 0.9997318387031555)], [[[1240.0, 661.0], [1429.0, 661.0], [1429.0, 720.0], [1240.0, 720.0]], ('Client:', 0.9994950890541077)], [[[203.0, 753.0], [931.0, 760.0], [930.0, 811.0], [203.0, 804.0]], ('Patel, Thompson and Montgomery', 0.9964486360549927)], [[[1244.0, 756.0], [1890.0, 756.0], [1890.0, 808.0], [1244.0, 808.0]], ('Jackson, Odonnell and Jackson.', 0.9805290102958679)], [[[207.0, 807.0], [513.0, 811.0], [513.0, 863.0], [207.0, 859.0]], ('356 Kyle Vista', 0.9985752105712891)], [[[1244.0, 807.0], [1776.0, 811.0], [1776.0, 863.0], [1244.0, 859.0]], ('267 John Track Suite 841', 0.9817495346069336)], [[[207.0, 866.0], [679.0, 866.0], [679.0, 914.0], [207.0, 914.0]], ('New James, MA 46228', 0.9982457160949707)], [[[1244.0, 866.0], [1724.0, 866.0], [1724.0, 914.0], [1244.0, 914.0]], ('Jenniferville, PA 98601', 0.9854620099067688)], [[[207.0, 972.0], [635.0, 972.0], [635.0, 1020.0], [207.0, 1020.0]], ('Tax Id: 958-74-3511', 0.9896508455276489)], [[[1248.0, 972.0], [1680.0, 972.0], [1680.0, 1020.0], [1248.0, 1020.0]], ('Tax Id: 998-87-7723', 0.9801385998725891)], [[[203.0, 1019.0], [960.0, 1023.0], [960.0, 1074.0], [203.0, 1071.0]], ('IBAN: GB77WRBQ31965128414006', 0.9939054250717163)], [[[192.0, 1140.0], [377.0, 1140.0], [377.0, 1191.0], [192.0, 1191.0]], ('ITEMS', 0.9929741621017456)], [[[1161.0, 1252.0], [1239.0, 1262.0], [1232.0, 1313.0], [1154.0, 1303.0]], ('UM', 0.979519248008728)], [[[233.0, 1268.0], [303.0, 1268.0], [303.0, 1308.0], [233.0, 1308.0]], ('No.', 0.9999094009399414)], [[[358.0, 1268.0], [576.0, 1268.0], [576.0, 1308.0], [358.0, 1308.0]], ('Description', 0.9997653961181641)], [[[1015.0, 1264.0], [1093.0, 1264.0], [1093.0, 1316.0], [1015.0, 1316.0]], ('Qty', 0.9998195767402649)], [[[1348.0, 1268.0], [1528.0, 1268.0], [1528.0, 1308.0], [1348.0, 1308.0]], ('Net price', 0.9999516010284424)], [[[1580.0, 1268.0], [1780.0, 1268.0], [1780.0, 1308.0], [1580.0, 1308.0]], ('Net worth', 0.9986754655838013)], [[[1842.0, 1268.0], [2001.0, 1268.0], [2001.0, 1308.0], [1842.0, 1308.0]], ('VAT [%]', 0.9989665746688843)], [[[2134.0, 1261.0], [2259.0, 1261.0], [2259.0, 1312.0], [2134.0, 1312.0]], ('Gross', 0.9985858798027039)], [[[2130.0, 1305.0], [2259.0, 1305.0], [2259.0, 1356.0], [2130.0, 1356.0]], ('worth', 0.9997998476028442)], [[[351.0, 1396.0], [875.0, 1396.0], [875.0, 1443.0], [351.0, 1443.0]], (\\\\\\\" Leed's Wine Companion Bottle\\\\\\\", 0.9855892658233643)], [[[1008.0, 1396.0], [1097.0, 1396.0], [1097.0, 1440.0], [1008.0, 1440.0]], ('1,00', 0.9966188669204712)], [[[1148.0, 1400.0], [1248.0, 1400.0], [1248.0, 1440.0], [1148.0, 1440.0]], ('each', 0.9973973035812378)], [[[1444.0, 1396.0], [1528.0, 1396.0], [1528.0, 1440.0], [1444.0, 1440.0]], ('7,50', 0.9954859018325806)], [[[1698.0, 1396.0], [1783.0, 1396.0], [1783.0, 1440.0], [1698.0, 1440.0]], ('7,50', 0.9905357360839844)], [[[1916.0, 1396.0], [2001.0, 1396.0], [2001.0, 1440.0], [1916.0, 1440.0]], ('10%', 0.9995570182800293)], [[[2171.0, 1396.0], [2256.0, 1396.0], [2256.0, 1440.0], [2171.0, 1440.0]], ('8,25', 0.9729064106941223)], [[[355.0, 1432.0], [875.0, 1436.0], [875.0, 1484.0], [354.0, 1480.0]], ('Corkscrew Opener Gift Box Set', 0.9943951964378357)], [[[358.0, 1484.0], [613.0, 1484.0], [613.0, 1520.0], [358.0, 1520.0]], ('with Foil Cutter', 0.9756938219070435)], [[[196.0, 1619.0], [491.0, 1619.0], [491.0, 1670.0], [196.0, 1670.0]], ('SUMMARY', 0.9958321452140808)], [[[956.0, 1743.0], [1122.0, 1743.0], [1122.0, 1794.0], [956.0, 1794.0]], ('VAT [%]', 0.9992411732673645)], [[[1776.0, 1734.0], [1874.0, 1745.0], [1868.0, 1799.0], [1770.0, 1789.0]], ('VAT', 0.9691691398620605)], [[[1388.0, 1747.0], [1588.0, 1747.0], [1588.0, 1787.0], [1388.0, 1787.0]], ('Net worth', 0.9879683256149292)], [[[2023.0, 1750.0], [2256.0, 1750.0], [2256.0, 1787.0], [2023.0, 1787.0]], ('Gross worth', 0.9999182224273682)], [[[1500.0, 1822.0], [1593.0, 1833.0], [1587.0, 1887.0], [1493.0, 1876.0]], ('7,50', 0.9980185627937317)], [[[997.0, 1834.0], [1082.0, 1834.0], [1082.0, 1878.0], [997.0, 1878.0]], ('10%', 0.9996476173400879)], [[[1783.0, 1834.0], [1868.0, 1834.0], [1868.0, 1878.0], [1783.0, 1878.0]], ('0,75', 0.9830088019371033)], [[[2175.0, 1834.0], [2263.0, 1834.0], [2263.0, 1878.0], [2175.0, 1878.0]], ('8,25', 0.9898556470870972)], [[[746.0, 1918.0], [857.0, 1918.0], [857.0, 1970.0], [746.0, 1970.0]], ('Total', 0.9997448921203613)], [[[1455.0, 1918.0], [1591.0, 1918.0], [1591.0, 1970.0], [1455.0, 1970.0]], ('$7,50', 0.998517632484436)], [[[1735.0, 1918.0], [1868.0, 1918.0], [1868.0, 1970.0], [1735.0, 1970.0]], ('$ 0,75', 0.9555268883705139)], [[[2133.0, 1910.0], [2264.0, 1920.0], [2260.0, 1974.0], [2129.0, 1965.0]], ('$8,25', 0.9991155862808228)]]\\\", \\\"ocr_labels\\\": \\\"\\\"}\"\n",
      "    },\n",
      "    \"truncated_cells\": []\n",
      "  },\n",
      "  {\n",
      "    \"row_idx\": 1,\n",
      "    \"row\": {\n",
      "      \"image\": {\n",
      "        \"src\": \"https://datasets-server.huggingface.co/cached-assets/mychen76/invoices-and-receipts_ocr_v1/--/83835c87346de32ac9223bdce5264e69ef3366ad/--/default/train/1/image/image.jpg?Expires=1727491824&Signature=a69kVxAZTwhd3Z0Tk-BQGPi7Ym9aAcKLROYeSa7e4D7CgvDKgFVXRbOnk1rT-GomTn1AThcggdkZC3EJ4n6nIgoD-HzJMKkZvGTtpmeT7N33kLX2Nwk6j~1fu0i3QI2mL-Vkcvl2ZuKqoQRqzpiaU2Bg4-Es-AvfCRoeSi77WPuwlxn0SN9PBFjfdXs6i67-K45JkaeibOZM9jHCgKPFDoyVYKbnryG8fziAHCEc86MWoPT0PHrg7qIFeWaBOH5a03j0I7ATQ26kNeKANFTFtOURliBI~bc5QpVIlzkkW7Zp2yCMg~hCvGPwY0Hm9jxvKqEA6A6hrBZYYRYgRsgJoA__&Key-Pair-Id=K3EI6M078Z3AC3\",\n",
      "        \"height\": 3508,\n",
      "        \"width\": 2481\n",
      "      },\n",
      "      \"id\": \"1\",\n",
      "      \"parsed_data\": \"{\\\"xml\\\": \\\"\\\", \\\"json\\\": \\\"{'header': {'invoice_no': '61356291', 'invoice_date': '09/06/2012', 'seller': 'Chapman, Kim and Green 64731 James Branch Smithmouth, NC 26872', 'client': 'Rodriguez-Stevens 2280 Angela Plain Hortonshire, MS 93248', 'seller_tax_id': '949-84-9105', 'client_tax_id': '939-98-8477', 'iban': 'GB50ACIE59715038217063'}, 'items': [{'item_desc': 'Wine Glasses Goblets Pair Clear Glass', 'item_qty': '5,00', 'item_net_price': '12,00', 'item_net_worth': '60,00', 'item_vat': '10%', 'item_gross_worth': '66,00'}, {'item_desc': 'With Hooks Stemware Storage Multiple Uses Iron Wine Rack Hanging Glass', 'item_qty': '4,00', 'item_net_price': '28,08', 'total_net_worth': '112,32', 'item_vat': '10%', 'item_gross_worth': '123,55'}, {'item_desc': 'Replacement Corkscrew Parts Spiral Worm Wine Opener Bottle Houdini', 'item_qty': '1,00', 'item_net_price': '7,50', 'total_net_worth': '7,50', 'item_vat': '10%', 'item_gross_worth': '8,25'}, {'item_desc': 'HOME ESSENTIALS GRADIENT STEMLESS WINE GLASSES SET OF 420 FL OZ (591 ml) NEW', 'item_qty': '1,00', 'item_net_price': '12,99', 'item_net_worth': '12,99', 'item_vat': '10%', 'item_gross_worth': '14,29'}], 'summary': {'total_net_worth': '$ 192,81', 'total_vat': '$19,28', 'total_gross_worth': '$ 212,09'}}\\\", \\\"kie\\\": \\\"\\\"}\",\n",
      "      \"raw_data\": \"{\\\"ocr_words\\\": \\\"['Invoice no: 61356291', 'Date of issue:', '09/06/2012', 'Client:', 'Seller:', 'Chapman, Kim and Green', 'Rodriguez-Stevens', '64731 James Branch', '2280 Angela Plain', 'Smithmouth, NC 26872', 'Hortonshire, MS 93248', 'Tax Id: 949-84-9105', 'Tax Id: 939-98-8477', 'IBAN: GB50ACIE59715038217063', 'ITEMS', 'No.', 'Description', 'Qty', 'UM', 'Net price', 'Net worth', 'VAT [%]', 'Gross', ' worth', 'Wine Glasses Goblets Pair Clear', '12,00', '60,00', '10%', '5,00', 'each', '66,00', '1.', 'Glass', 'With Hooks Stemware Storage', '28,08', '112,32', '10%', '4,00', 'each', '123,55', 'Multiple Uses Iron Wine Rack', 'Hanging Glass', '1,00', '7,50', '7,50', '10%', '8,25', 'Replacement Corkscrew Parts', 'each', 'Spiral Worm Wine Opener Bottle', 'Houdini', 'HOME ESSENTIALS GRADIENT', '1,00', 'each', '12,99', '12,99', '10%', '14,29', '4', 'STEMLESS WINE GLASSES SET', 'OF 4 20 FL OZ (591 ml) NEW', 'SUMMARY', 'VAT [%]', 'Net worth', 'VAT', 'Gross worth', '10%', '192,81', '19,28', '212,09', 'Total', '$ 192,81', '$ 19,28', '$ 212,09']\\\", \\\"ocr_boxes\\\": \\\"[[[[199.0, 110.0], [801.0, 110.0], [801.0, 161.0], [199.0, 161.0]], ('Invoice no: 61356291', 0.9788082242012024)], [[[196.0, 212.0], [517.0, 212.0], [517.0, 259.0], [196.0, 259.0]], ('Date of issue:', 0.9985820651054382)], [[[1200.0, 216.0], [1462.0, 216.0], [1462.0, 256.0], [1200.0, 256.0]], ('09/06/2012', 0.9996706247329712)], [[[1239.0, 653.0], [1426.0, 662.0], [1423.0, 724.0], [1236.0, 715.0]], ('Client:', 0.9993823170661926)], [[[192.0, 665.0], [388.0, 665.0], [388.0, 716.0], [192.0, 716.0]], ('Seller:', 0.9997318387031555)], [[[210.0, 756.0], [753.0, 756.0], [753.0, 808.0], [210.0, 808.0]], ('Chapman, Kim and Green', 0.9998903870582581)], [[[1248.0, 760.0], [1647.0, 760.0], [1647.0, 808.0], [1248.0, 808.0]], ('Rodriguez-Stevens', 0.9998601078987122)], [[[207.0, 807.0], [650.0, 811.0], [650.0, 863.0], [207.0, 859.0]], ('64731 James Branch', 0.9947491884231567)], [[[1248.0, 807.0], [1636.0, 811.0], [1635.0, 863.0], [1248.0, 859.0]], ('2280 Angela Plain', 0.9994451999664307)], [[[207.0, 866.0], [701.0, 866.0], [701.0, 914.0], [207.0, 914.0]], ('Smithmouth, NC 26872', 0.9997967481613159)], [[[1244.0, 866.0], [1732.0, 866.0], [1732.0, 914.0], [1244.0, 914.0]], ('Hortonshire, MS 93248', 0.9944106340408325)], [[[207.0, 972.0], [639.0, 972.0], [639.0, 1020.0], [207.0, 1020.0]], ('Tax Id: 949-84-9105', 0.9908804893493652)], [[[1248.0, 972.0], [1676.0, 972.0], [1676.0, 1020.0], [1248.0, 1020.0]], ('Tax Id: 939-98-8477', 0.9881197214126587)], [[[207.0, 1023.0], [923.0, 1023.0], [923.0, 1071.0], [207.0, 1071.0]], ('IBAN: GB50ACIE59715038217063', 0.9735023379325867)], [[[188.0, 1140.0], [377.0, 1140.0], [377.0, 1191.0], [188.0, 1191.0]], ('ITEMS', 0.973893940448761)], [[[233.0, 1268.0], [303.0, 1268.0], [303.0, 1308.0], [233.0, 1308.0]], ('No.', 0.9999094009399414)], [[[358.0, 1268.0], [576.0, 1268.0], [576.0, 1308.0], [358.0, 1308.0]], ('Description', 0.9997653961181641)], [[[1012.0, 1261.0], [1097.0, 1261.0], [1097.0, 1316.0], [1012.0, 1316.0]], ('Qty', 0.9998303055763245)], [[[1159.0, 1264.0], [1237.0, 1264.0], [1237.0, 1308.0], [1159.0, 1308.0]], ('UM', 0.9347040057182312)], [[[1348.0, 1268.0], [1528.0, 1268.0], [1528.0, 1308.0], [1348.0, 1308.0]], ('Net price', 0.9999516010284424)], [[[1580.0, 1268.0], [1780.0, 1268.0], [1780.0, 1308.0], [1580.0, 1308.0]], ('Net worth', 0.9986754655838013)], [[[1842.0, 1268.0], [2001.0, 1268.0], [2001.0, 1308.0], [1842.0, 1308.0]], ('VAT [%]', 0.9989665746688843)], [[[2134.0, 1261.0], [2259.0, 1261.0], [2259.0, 1312.0], [2134.0, 1312.0]], ('Gross', 0.9985858798027039)], [[[2129.0, 1296.0], [2261.0, 1306.0], [2257.0, 1357.0], [2125.0, 1347.0]], (' worth', 0.9336559772491455)], [[[351.0, 1388.0], [897.0, 1396.0], [897.0, 1444.0], [350.0, 1436.0]], ('Wine Glasses Goblets Pair Clear', 0.9984278678894043)], [[[1421.0, 1392.0], [1532.0, 1392.0], [1532.0, 1443.0], [1421.0, 1443.0]], ('12,00', 0.9996110200881958)], [[[1676.0, 1392.0], [1787.0, 1392.0], [1787.0, 1443.0], [1676.0, 1443.0]], ('60,00', 0.9979851841926575)], [[[1909.0, 1383.0], [2007.0, 1394.0], [2000.0, 1449.0], [1903.0, 1438.0]], ('10%', 0.9999048113822937)], [[[1004.0, 1396.0], [1097.0, 1396.0], [1097.0, 1440.0], [1004.0, 1440.0]], ('5,00', 0.9872055053710938)], [[[1148.0, 1400.0], [1248.0, 1400.0], [1248.0, 1440.0], [1148.0, 1440.0]], ('each', 0.9973973035812378)], [[[2145.0, 1392.0], [2259.0, 1392.0], [2259.0, 1443.0], [2145.0, 1443.0]], ('66,00', 0.9967435002326965)], [[[251.0, 1403.0], [284.0, 1403.0], [284.0, 1432.0], [251.0, 1432.0]], ('1.', 0.9957729578018188)], [[[353.0, 1435.0], [459.0, 1445.0], [455.0, 1485.0], [349.0, 1475.0]], ('Glass', 0.997931957244873)], [[[355.0, 1520.0], [872.0, 1528.0], [871.0, 1575.0], [354.0, 1567.0]], ('With Hooks Stemware Storage', 0.9999193549156189)], [[[1418.0, 1524.0], [1532.0, 1524.0], [1532.0, 1575.0], [1418.0, 1575.0]], ('28,08', 0.9997357130050659)], [[[1654.0, 1524.0], [1783.0, 1524.0], [1783.0, 1575.0], [1654.0, 1575.0]], ('112,32', 0.9998149871826172)], [[[1909.0, 1515.0], [2007.0, 1526.0], [2001.0, 1577.0], [1903.0, 1566.0]], ('10%', 0.9999029040336609)], [[[1008.0, 1527.0], [1093.0, 1527.0], [1093.0, 1571.0], [1008.0, 1571.0]], ('4,00', 0.9987012147903442)], [[[1152.0, 1527.0], [1244.0, 1527.0], [1244.0, 1571.0], [1152.0, 1571.0]], ('each', 0.9990001320838928)], [[[2130.0, 1527.0], [2252.0, 1527.0], [2252.0, 1568.0], [2130.0, 1568.0]], ('123,55', 0.9989001154899597)], [[[358.0, 1571.0], [849.0, 1571.0], [849.0, 1608.0], [358.0, 1608.0]], ('Multiple Uses Iron Wine Rack', 0.9708606600761414)], [[[358.0, 1615.0], [605.0, 1615.0], [605.0, 1655.0], [358.0, 1655.0]], ('Hanging Glass', 0.9997545480728149)], [[[1008.0, 1696.0], [1093.0, 1696.0], [1093.0, 1739.0], [1008.0, 1739.0]], ('1,00', 0.9919418096542358)], [[[1440.0, 1692.0], [1532.0, 1692.0], [1532.0, 1747.0], [1440.0, 1747.0]], ('7,50', 0.9992889165878296)], [[[1695.0, 1692.0], [1787.0, 1692.0], [1787.0, 1747.0], [1695.0, 1747.0]], ('7,50', 0.9993087649345398)], [[[1912.0, 1692.0], [2005.0, 1692.0], [2005.0, 1747.0], [1912.0, 1747.0]], ('10%', 0.9999165534973145)], [[[2168.0, 1687.0], [2254.0, 1697.0], [2247.0, 1752.0], [2161.0, 1741.0]], ('8,25', 0.9991562366485596)], [[[354.0, 1703.0], [864.0, 1703.0], [864.0, 1739.0], [354.0, 1739.0]], ('Replacement Corkscrew Parts', 0.9861046075820923)], [[[1152.0, 1699.0], [1244.0, 1699.0], [1244.0, 1743.0], [1152.0, 1743.0]], ('each', 0.9991188645362854)], [[[355.0, 1736.0], [901.0, 1739.0], [901.0, 1787.0], [354.0, 1783.0]], ('Spiral Worm Wine Opener Bottle', 0.9984367489814758)], [[[354.0, 1787.0], [495.0, 1787.0], [495.0, 1823.0], [354.0, 1823.0]], ('Houdini', 0.9994716644287109)], [[[351.0, 1867.0], [864.0, 1867.0], [864.0, 1915.0], [351.0, 1915.0]], ('HOME ESSENTIALS GRADIENT', 0.9798102378845215)], [[[1008.0, 1871.0], [1093.0, 1871.0], [1093.0, 1911.0], [1008.0, 1911.0]], ('1,00', 0.9990050792694092)], [[[1152.0, 1875.0], [1248.0, 1875.0], [1248.0, 1915.0], [1152.0, 1915.0]], ('each', 0.9982025623321533)], [[[1421.0, 1867.0], [1532.0, 1867.0], [1532.0, 1918.0], [1421.0, 1918.0]], ('12,99', 0.9998315572738647)], [[[1676.0, 1867.0], [1787.0, 1867.0], [1787.0, 1918.0], [1676.0, 1918.0]], ('12,99', 0.9997693300247192)], [[[1912.0, 1871.0], [2001.0, 1871.0], [2001.0, 1915.0], [1912.0, 1915.0]], ('10%', 0.9995101094245911)], [[[2149.0, 1871.0], [2256.0, 1871.0], [2256.0, 1911.0], [2149.0, 1911.0]], ('14,29', 0.9969544410705566)], [[[262.0, 1882.0], [281.0, 1882.0], [281.0, 1900.0], [262.0, 1900.0]], ('4', 0.9126366972923279)], [[[362.0, 1915.0], [864.0, 1915.0], [864.0, 1951.0], [362.0, 1951.0]], ('STEMLESS WINE GLASSES SET', 0.9976090788841248)], [[[354.0, 1948.0], [845.0, 1948.0], [845.0, 1995.0], [354.0, 1995.0]], ('OF 4 20 FL OZ (591 ml) NEW', 0.9766821265220642)], [[[192.0, 2094.0], [491.0, 2094.0], [491.0, 2145.0], [192.0, 2145.0]], ('SUMMARY', 0.9961081743240356)], [[[956.0, 2218.0], [1122.0, 2218.0], [1122.0, 2269.0], [956.0, 2269.0]], ('VAT [%]', 0.9993457794189453)], [[[1388.0, 2222.0], [1588.0, 2222.0], [1588.0, 2262.0], [1388.0, 2262.0]], ('Net worth', 0.9923312067985535)], [[[1775.0, 2213.0], [1870.0, 2223.0], [1865.0, 2267.0], [1771.0, 2257.0]], ('VAT', 0.672061026096344)], [[[2027.0, 2222.0], [2259.0, 2222.0], [2259.0, 2262.0], [2027.0, 2262.0]], ('Gross worth', 0.9999037384986877)], [[[997.0, 2309.0], [1082.0, 2309.0], [1082.0, 2353.0], [997.0, 2353.0]], ('10%', 0.9998807907104492)], [[[1458.0, 2306.0], [1591.0, 2306.0], [1591.0, 2357.0], [1458.0, 2357.0]], ('192,81', 0.9995806217193604)], [[[1757.0, 2306.0], [1868.0, 2306.0], [1868.0, 2357.0], [1757.0, 2357.0]], ('19,28', 0.9996465444564819)], [[[2134.0, 2309.0], [2263.0, 2309.0], [2263.0, 2350.0], [2134.0, 2350.0]], ('212,09', 0.9867501854896545)], [[[746.0, 2393.0], [857.0, 2393.0], [857.0, 2445.0], [746.0, 2445.0]], ('Total', 0.9998254776000977)], [[[1410.0, 2393.0], [1588.0, 2393.0], [1588.0, 2445.0], [1410.0, 2445.0]], ('$ 192,81', 0.9970046281814575)], [[[1709.0, 2393.0], [1868.0, 2393.0], [1868.0, 2445.0], [1709.0, 2445.0]], ('$ 19,28', 0.9348526000976562)], [[[2082.0, 2393.0], [2263.0, 2393.0], [2263.0, 2445.0], [2082.0, 2445.0]], ('$ 212,09', 0.9943768978118896)]]\\\", \\\"ocr_labels\\\": \\\"\\\"}\"\n",
      "    },\n",
      "    \"truncated_cells\": []\n",
      "  }\n",
      "]\n"
     ]
    }
   ],
   "source": [
    "import subprocess\n",
    "import json\n",
    "import os\n",
    "\n",
    "# Define the data directory path\n",
    "data_dir = '/Users/sina/Library/Mobile Documents/com~apple~CloudDocs/git_projects/Startup/mern-dashboard/langchain_service/data'\n",
    "\n",
    "# Create the data directory if it doesn't exist\n",
    "os.makedirs(data_dir, exist_ok=True)\n",
    "\n",
    "# Define the output file path\n",
    "output_file = os.path.join(data_dir, 'data.json')\n",
    "\n",
    "# Check if the file already exists\n",
    "if not os.path.exists(output_file):\n",
    "    # Define the curl command\n",
    "    curl_command = [\n",
    "        'curl', '-X', 'GET',\n",
    "        'https://datasets-server.huggingface.co/rows?dataset=mychen76%2Finvoices-and-receipts_ocr_v1&config=default&split=train&offset=0&length=100'\n",
    "    ]\n",
    "\n",
    "    # Execute the curl command and capture the output\n",
    "    result = subprocess.run(curl_command, capture_output=True, text=True)\n",
    "\n",
    "    # Parse the JSON data\n",
    "    data = json.loads(result.stdout)\n",
    "\n",
    "    # Write the formatted JSON to a file\n",
    "    with open(output_file, 'w') as f:\n",
    "        json.dump(data, f, indent=2)\n",
    "\n",
    "    print(f\"Data downloaded and saved to {output_file}\")\n",
    "else:\n",
    "    print(f\"File {output_file} already exists. Loading existing data.\")\n",
    "    with open(output_file, 'r') as f:\n",
    "        data = json.load(f)\n",
    "\n",
    "# Display the first few rows of the data\n",
    "print(\"\\nFirst few rows of the data:\")\n",
    "print(json.dumps(data['rows'][:2], indent=2))"
   ]
  },
  {
   "cell_type": "code",
   "execution_count": 2,
   "metadata": {},
   "outputs": [],
   "source": [
    "os.environ[\"OPENAI_API_KEY\"] = getpass.getpass(\"OpenAI API Key:\")\n",
    "ATLAS_CONNECTION_STRING = getpass.getpass(\"MongoDB Atlas SRV Connection String:\")"
   ]
  },
  {
   "cell_type": "code",
   "execution_count": 21,
   "metadata": {},
   "outputs": [],
   "source": [
    "# Connect to your Atlas cluster\n",
    "client = MongoClient(ATLAS_CONNECTION_STRING)\n",
    "\n",
    "# Define collection and index name\n",
    "db_name = \"langchain_db\"\n",
    "collection_name = \"invoice_db\"\n",
    "atlas_collection = client[db_name][collection_name]\n",
    "vector_search_index = \"invoice_vector_index\""
   ]
  },
  {
   "cell_type": "code",
   "execution_count": 22,
   "metadata": {},
   "outputs": [
    {
     "name": "stderr",
     "output_type": "stream",
     "text": [
      "_id or id key found in metadata. Please pop from each dict and input as separate list.Retrieving methods will include the same id as '_id' in metadata.\n"
     ]
    },
    {
     "name": "stdout",
     "output_type": "stream",
     "text": [
      "Vector store created with 100 documents.\n"
     ]
    }
   ],
   "source": [
    "# Load the JSON data\n",
    "data_dir = '/Users/sina/Library/Mobile Documents/com~apple~CloudDocs/git_projects/Startup/mern-dashboard/langchain_service/data'\n",
    "json_file = os.path.join(data_dir, 'data.json')\n",
    "\n",
    "with open(json_file, 'r') as f:\n",
    "    data = json.load(f)\n",
    "\n",
    "# Prepare documents for vector store\n",
    "documents = []\n",
    "for row in data['rows']:\n",
    "    parsed_data = json.loads(row['row']['parsed_data'])\n",
    "    content = f\"invoice_id: {row['row']['id']}\\n\"\n",
    "    content += f\"parsed_data: {parsed_data['json']}\\n\"\n",
    "        \n",
    "    doc = Document(\n",
    "        page_content=content,\n",
    "        metadata={\n",
    "            \"id\": row['row']['id'],\n",
    "            \"image_height\": row['row']['image']['height'],\n",
    "            \"image_width\": row['row']['image']['width'],\n",
    "        }\n",
    "    )\n",
    "    documents.append(doc)\n",
    "\n",
    "# Create the vector store\n",
    "vector_store = MongoDBAtlasVectorSearch.from_documents(\n",
    "    documents=documents,\n",
    "    embedding=OpenAIEmbeddings(disallowed_special=()),\n",
    "    collection=atlas_collection,\n",
    "    index_name=vector_search_index\n",
    ")\n",
    "\n",
    "print(f\"Vector store created with {len(documents)} documents.\")"
   ]
  },
  {
   "cell_type": "code",
   "execution_count": 8,
   "metadata": {},
   "outputs": [
    {
     "name": "stdout",
     "output_type": "stream",
     "text": [
      "Successfully inserted 100 image documents\n"
     ]
    }
   ],
   "source": [
    "# Define the new collection for image bytes\n",
    "image_collection_name = \"image_bytes\"\n",
    "image_collection = client[db_name][image_collection_name]\n",
    "\n",
    "# Create documents for image bytes\n",
    "image_documents = []\n",
    "for row in data['rows']:\n",
    "    image_doc = {\n",
    "        \"invoice_id\": row['row']['id'],  # Using invoice_id as a linking field\n",
    "        \"image_bytes\": row['row']['image']['bytes'],\n",
    "        \"raw_ocr\": row['row']['raw_data']\n",
    "    }\n",
    "    image_documents.append(image_doc)\n",
    "\n",
    "# Insert documents into the image collection\n",
    "# Using insert_many for better performance with multiple documents\n",
    "if image_documents:\n",
    "    try:\n",
    "        # First, create an index on invoice_id for faster lookups\n",
    "        image_collection.create_index(\"invoice_id\", unique=True)\n",
    "        \n",
    "        # Insert documents with ordered=False for better performance\n",
    "        result = image_collection.insert_many(image_documents, ordered=False)\n",
    "        print(f\"Successfully inserted {len(result.inserted_ids)} image documents\")\n",
    "        \n",
    "    except pymongo.errors.BulkWriteError as e:\n",
    "        # Handle potential duplicate key errors\n",
    "        print(f\"Encountered some errors during insertion: {e.details}\")\n",
    "        print(f\"Successfully inserted documents: {len(e.details.get('writeErrors', []))}\")\n",
    "\n",
    "    except Exception as e:\n",
    "        print(f\"An error occurred: {e}\")"
   ]
  },
  {
   "cell_type": "code",
   "execution_count": 23,
   "metadata": {},
   "outputs": [
    {
     "data": {
      "text/plain": [
       "'invoice_vector_index'"
      ]
     },
     "execution_count": 23,
     "metadata": {},
     "output_type": "execute_result"
    }
   ],
   "source": [
    "# Create your index model, then create the search index\n",
    "search_index_model = SearchIndexModel(\n",
    "    definition={\n",
    "        \"fields\": [\n",
    "            {\n",
    "                \"type\": \"vector\",\n",
    "                \"path\": \"embedding\",\n",
    "                \"numDimensions\": 1536,\n",
    "                \"similarity\": \"cosine\"\n",
    "            },\n",
    "            {\n",
    "                \"type\": \"filter\",\n",
    "                \"path\": \"id\",\n",
    "            }\n",
    "        ]\n",
    "    },\n",
    "    name=\"invoice_vector_index\",\n",
    "    type=\"vectorSearch\"\n",
    ")\n",
    "\n",
    "atlas_collection.create_search_index(model=search_index_model)"
   ]
  },
  {
   "cell_type": "markdown",
   "metadata": {},
   "source": [
    "### Semantic Search with Score"
   ]
  },
  {
   "cell_type": "code",
   "execution_count": 24,
   "metadata": {},
   "outputs": [
    {
     "name": "stdout",
     "output_type": "stream",
     "text": [
      "[Document(metadata={'_id': '6722888f4c84a04060eab4ef', 'id': '0', 'image_height': 3508, 'image_width': 2481}, page_content='invoice_id: 0\\nparsed_data: {\\'header\\': {\\'invoice_no\\': \\'40378170\\', \\'invoice_date\\': \\'10/15/2012\\', \\'seller\\': \\'Patel, Thompson and Montgomery 356 Kyle Vista New James, MA 46228\\', \\'client\\': \\'Jackson, Odonnell and Jackson 267 John Track Suite 841 Jenniferville, PA 98601\\', \\'seller_tax_id\\': \\'958-74-3511\\', \\'client_tax_id\\': \\'998-87-7723\\', \\'iban\\': \\'GB77WRBQ31965128414006\\'}, \\'items\\': [{\\'item_desc\\': \"Leed\\'s Wine Companion Bottle Corkscrew Opener Gift Box Set with Foil Cutter\", \\'item_qty\\': \\'1,00\\', \\'item_net_price\\': \\'7,50\\', \\'item_net_worth\\': \\'7,50\\', \\'item_vat\\': \\'10%\\', \\'item_gross_worth\\': \\'8,25\\'}], \\'summary\\': {\\'total_net_worth\\': \\'$7,50\\', \\'total_vat\\': \\'$0,75\\', \\'total_gross_worth\\': \\'$8,25\\'}}\\n'),\n",
      " Document(metadata={'_id': '6722888f4c84a04060eab53d', 'id': '169', 'image_height': 3508, 'image_width': 2481}, page_content=\"invoice_id: 169\\nparsed_data: {'header': {'invoice_no': '43825047', 'invoice_date': '05/09/2020', 'seller': 'Diaz, Bryan and Garcia 683 Diana Shores Moranborough, PA 57938', 'client': 'Price-Williams 7811 Newman Roads Lake Sharonstad, PA 95866', 'seller_tax_id': '961-77-2514', 'client_tax_id': '933-97-0448', 'iban': 'GB94PUCB83711320168955'}, 'items': [{'item_desc': 'Dell Optiplex 990 MT Computer PC Quad Core i7 3.4GHz 16GB 2TB HD Windows 10 Pro', 'item_qty': '1,00', 'item_net_price': '269,95', 'item_net_worth': '269,95', 'item_vat': '10%', 'item_gross_worth': '296,95'}, {'item_desc': 'Lenovo i5 I 32GB I2TB ISSD Windows 10 Pro Desktop Computer PC WiFi Bluetooth', 'item_qty': '2,00', 'item_net_price': '139,00', 'item_net_worth': '278,00', 'item_vat': '10%', 'item_gross_worth': '305,80'}, {'item_desc': 'Open Box: Dell XPS 8930 Desktop Computer Intel Core i7 8GB RAM 1TB HDD Black - 8', 'item_qty': '4,00', 'item_net_price': '718,11', 'item_net_worth': '2872,44', 'item_vat': '10%', 'item_gross_worth': '3 159,68'}], 'summary': {'total_net_worth': '$3 420,39', 'total_vat': '$ 342,04', 'total_gross_worth': '$3762,43'}}\\n\"),\n",
      " Document(metadata={'_id': '6722888f4c84a04060eab527', 'id': '149', 'image_height': 3508, 'image_width': 2481}, page_content=\"invoice_id: 149\\nparsed_data: {'header': {'invoice_no': '43417184', 'invoice_date': '01/15/2017', 'seller': 'Johnson, Frye and Jones 986 Jacob Common Rodrigueztown, NE 91278', 'client': 'Garner-Robinson 54313 Scott Drive East Emilyburgh, ME 01916', 'seller_tax_id': '925-77-5397', 'client_tax_id': '928-92-0135', 'iban': 'GB83ZOYM71778356681564'}, 'items': [{'item_desc': 'Lego Star Wars Minifigures Stormtrooper Darth Vader Yoda Obi Van Mandalorian New', 'item_qty': '3,00', 'item_net_price': '2,98', 'item_net_worth': '8,94', 'item_vat': '10%', 'item_gross_worth': '9,83'}, {'item_desc': 'Nike SB Dunk High X Concepts Kids Size 3 Ugly Sweater 2017 Pre School A01557-446', 'item_qty': '2,00', 'item_net_price': '100,00', 'item_net_worth': '200,00', 'item_vat': '10%', 'item_gross_worth': '220,00'}, {'item_desc': 'Nike Air Jordan 1 Mid Obsidian 640735-174 Toddler Kids Children Size 8C Blue', 'item_qty': '4,00', 'item_net_price': '24,99', 'item_net_worth': '99,96', 'item_vat': '10%', 'item_gross_worth': '109,96'}], 'summary': {'total_net_worth': '$ 308,90', 'total_vat': '$ 30,89', 'total_gross_worth': '$ 339,79'}}\\n\"),\n",
      " Document(metadata={'_id': '6722888f4c84a04060eab542', 'id': '173', 'image_height': 3508, 'image_width': 2481}, page_content='invoice_id: 173\\nparsed_data: {\\'header\\': {\\'invoice_no\\': \\'69087316\\', \\'invoice_date\\': \\'08/12/2011\\', \\'seller\\': \\'Simmons-Henry 185 Stewart Mall Phillipsland, AK 27118\\', \\'client\\': \\'Adkins LLC 138 Stephanie Keys Joycemouth, KS 06054\\', \\'seller_tax_id\\': \\'918-88-0475\\', \\'client_tax_id\\': \\'995-99-7750\\', \\'iban\\': \\'GB27WNAR01832208898507\\'}, \\'items\\': [{\\'item_desc\\': \\'2 Wine Glasses 8oz 7\" inches tall drinks for two Good condition (fast shipper)\\', \\'item_qty\\': \\'2,00\\', \\'item_net_price\\': \\'5,00\\', \\'item_net_worth\\': \\'10,00\\', \\'item_vat\\': \\'10%\\', \\'item_gross_worth\\': \\'11,00\\'}, {\\'item_desc\\': \\'Rust Proof Three Rows Tool Wine Glass Holder Simple Iron Wire Home Hanging Rack\\', \\'item_qty\\': \\'2,00\\', \\'item_net_price\\': \\'11,56\\', \\'item_net_worth\\': \\'23,12\\', \\'item_vat\\': \\'10%\\', \\'item_gross_worth\\': \\'25,43\\'}, {\\'item_desc\\': \\'Wine spoon\\', \\'item_qty\\': \\'2,00\\', \\'item_net_price\\': \\'5,00\\', \\'item_net_worth\\': \\'10,00\\', \\'item_vat\\': \\'10%\\', \\'item_gross_worth\\': \\'11,00\\'}, {\\'item_desc\\': \\'Mikasa Cheers Metallics Gold 14oz Wine Glasses With Original Stickers -Set Of2\\', \\'item_qty\\': \\'4,00\\', \\'item_net_price\\': \\'9,99\\', \\'item_net_worth\\': \\'39,96\\', \\'item_vat\\': \\'10%\\', \\'item_gross_worth\\': \\'43,96\\'}], \\'summary\\': {\\'total_net_worth\\': \\'$83,08\\', \\'total_vat\\': \\'$8,31\\', \\'total_gross_worth\\': \\'$91,39\\'}}\\n')]\n"
     ]
    }
   ],
   "source": [
    "query = \"Patel, Thompson and Montgomery 356 Kyle Vista New James, MA 46228\"\n",
    "results = vector_store.similarity_search(query)\n",
    "\n",
    "pprint.pprint(results)"
   ]
  },
  {
   "cell_type": "markdown",
   "metadata": {},
   "source": [
    "### Semamtic Search with Filter"
   ]
  },
  {
   "cell_type": "code",
   "execution_count": 25,
   "metadata": {},
   "outputs": [
    {
     "name": "stdout",
     "output_type": "stream",
     "text": [
      "[(Document(metadata={'_id': '6722888f4c84a04060eab4ef', 'id': '0', 'image_height': 3508, 'image_width': 2481}, page_content='invoice_id: 0\\nparsed_data: {\\'header\\': {\\'invoice_no\\': \\'40378170\\', \\'invoice_date\\': \\'10/15/2012\\', \\'seller\\': \\'Patel, Thompson and Montgomery 356 Kyle Vista New James, MA 46228\\', \\'client\\': \\'Jackson, Odonnell and Jackson 267 John Track Suite 841 Jenniferville, PA 98601\\', \\'seller_tax_id\\': \\'958-74-3511\\', \\'client_tax_id\\': \\'998-87-7723\\', \\'iban\\': \\'GB77WRBQ31965128414006\\'}, \\'items\\': [{\\'item_desc\\': \"Leed\\'s Wine Companion Bottle Corkscrew Opener Gift Box Set with Foil Cutter\", \\'item_qty\\': \\'1,00\\', \\'item_net_price\\': \\'7,50\\', \\'item_net_worth\\': \\'7,50\\', \\'item_vat\\': \\'10%\\', \\'item_gross_worth\\': \\'8,25\\'}], \\'summary\\': {\\'total_net_worth\\': \\'$7,50\\', \\'total_vat\\': \\'$0,75\\', \\'total_gross_worth\\': \\'$8,25\\'}}\\n'),\n",
      "  0.9009585380554199)]\n"
     ]
    }
   ],
   "source": [
    "# query = \"Patel, Thompson and Montgomery 356 Kyle Vista New James, MA 46228\"\n",
    "query = \"Invoice no: 40378170, invoice date 10/15/2012\"\n",
    "results = vector_store.similarity_search_with_score(\n",
    "    query = query,\n",
    "    k = 5,\n",
    "    pre_filter = { \"id\": { \"$in\": [\"0\"] } }\n",
    ")\n",
    "pprint.pprint(results)"
   ]
  },
  {
   "cell_type": "markdown",
   "metadata": {},
   "source": [
    "### Basic RAG\n",
    "\n",
    "This example does the following:\n",
    "\n",
    "- Instantiates Atlas Vector Search as a retriever to query for similar documents, including the optional k parameter to search for only the 10 most relevant documents.\n",
    "\n",
    "- Defines a LangChain prompt template to instruct the LLM to use these documents as context for your query. LangChain passes these documents to the {context} input variable and your query to the {question} variable.\n",
    "\n",
    "- Constructs a chain that specifies the following:\n",
    "\n",
    "  - Atlas Vector Search as the retriever to search for documents that are used as context by the LLM.\n",
    "\n",
    "  - The prompt template that you constructed.\n",
    "\n",
    "  - OpenAI's chat model as the LLM used to generate a context-aware response.\n",
    "\n",
    "- Prompts the chain with a sample query about Atlas security recommendations.\n",
    "\n",
    "- Returns the LLM's response and the documents used as context. The generated response might vary.\n"
   ]
  },
  {
   "cell_type": "code",
   "execution_count": 26,
   "metadata": {},
   "outputs": [
    {
     "name": "stdout",
     "output_type": "stream",
     "text": [
      "Question:what is the invoice number for the seller that has the following description: 'Patel, Thompson and Montgomery 356 Kyle Vista New James, MA 46228'\n",
      "Answer:The invoice number for the seller 'Patel, Thompson and Montgomery 356 Kyle Vista New James, MA 46228' is '40378170'.\n",
      "\n",
      "Source documents:\n",
      "[Document(metadata={'_id': '6722888f4c84a04060eab4ef', 'id': '0', 'image_height': 3508, 'image_width': 2481}, page_content='invoice_id: 0\\nparsed_data: {\\'header\\': {\\'invoice_no\\': \\'40378170\\', \\'invoice_date\\': \\'10/15/2012\\', \\'seller\\': \\'Patel, Thompson and Montgomery 356 Kyle Vista New James, MA 46228\\', \\'client\\': \\'Jackson, Odonnell and Jackson 267 John Track Suite 841 Jenniferville, PA 98601\\', \\'seller_tax_id\\': \\'958-74-3511\\', \\'client_tax_id\\': \\'998-87-7723\\', \\'iban\\': \\'GB77WRBQ31965128414006\\'}, \\'items\\': [{\\'item_desc\\': \"Leed\\'s Wine Companion Bottle Corkscrew Opener Gift Box Set with Foil Cutter\", \\'item_qty\\': \\'1,00\\', \\'item_net_price\\': \\'7,50\\', \\'item_net_worth\\': \\'7,50\\', \\'item_vat\\': \\'10%\\', \\'item_gross_worth\\': \\'8,25\\'}], \\'summary\\': {\\'total_net_worth\\': \\'$7,50\\', \\'total_vat\\': \\'$0,75\\', \\'total_gross_worth\\': \\'$8,25\\'}}\\n'),\n",
      " Document(metadata={'_id': '6722888f4c84a04060eab506', 'id': '119', 'image_height': 3508, 'image_width': 2481}, page_content=\"invoice_id: 119\\nparsed_data: {'header': {'invoice_no': '41925448', 'invoice_date': '08/19/2019', 'seller': 'Keith LLC 02821 Baker Vista Hunttown, AL 18759', 'client': 'Wang Ltd 506 Dale Prairie South Charlottechester, SD 50411', 'seller_tax_id': '997-80-1346', 'client_tax_id': '957-76-0587', 'iban': 'GB69ONMU18243705319443'}, 'items': [{'item_desc': 'CLEARANCE!!! Fast HP Desktop Computer PC Core 2 Duo WINDOWS 10 + LCD + KB + MS', 'item_qty': '4,00', 'item_net_price': '89,99', 'item_net_worth': '359,96', 'item_vat': '10%', 'item_gross_worth': '395,96'}], 'summary': {'total_net_worth': '$ 359,96', 'total_vat': '$ 36,00', 'total_gross_worth': '$ 395,96'}}\\n\"),\n",
      " Document(metadata={'_id': '6722888f4c84a04060eab53d', 'id': '169', 'image_height': 3508, 'image_width': 2481}, page_content=\"invoice_id: 169\\nparsed_data: {'header': {'invoice_no': '43825047', 'invoice_date': '05/09/2020', 'seller': 'Diaz, Bryan and Garcia 683 Diana Shores Moranborough, PA 57938', 'client': 'Price-Williams 7811 Newman Roads Lake Sharonstad, PA 95866', 'seller_tax_id': '961-77-2514', 'client_tax_id': '933-97-0448', 'iban': 'GB94PUCB83711320168955'}, 'items': [{'item_desc': 'Dell Optiplex 990 MT Computer PC Quad Core i7 3.4GHz 16GB 2TB HD Windows 10 Pro', 'item_qty': '1,00', 'item_net_price': '269,95', 'item_net_worth': '269,95', 'item_vat': '10%', 'item_gross_worth': '296,95'}, {'item_desc': 'Lenovo i5 I 32GB I2TB ISSD Windows 10 Pro Desktop Computer PC WiFi Bluetooth', 'item_qty': '2,00', 'item_net_price': '139,00', 'item_net_worth': '278,00', 'item_vat': '10%', 'item_gross_worth': '305,80'}, {'item_desc': 'Open Box: Dell XPS 8930 Desktop Computer Intel Core i7 8GB RAM 1TB HDD Black - 8', 'item_qty': '4,00', 'item_net_price': '718,11', 'item_net_worth': '2872,44', 'item_vat': '10%', 'item_gross_worth': '3 159,68'}], 'summary': {'total_net_worth': '$3 420,39', 'total_vat': '$ 342,04', 'total_gross_worth': '$3762,43'}}\\n\"),\n",
      " Document(metadata={'_id': '6722888f4c84a04060eab51c', 'id': '139', 'image_height': 3508, 'image_width': 2481}, page_content=\"invoice_id: 139\\nparsed_data: {'header': {'invoice_no': '19512841', 'invoice_date': '06/18/2012', 'seller': 'Camacho-Stewart 99489 Brown Stream Whitetown, NY 24886', 'client': 'Fleming Ltd 55160 Robert Way Jamesland, KY 92755', 'seller_tax_id': '971-74-5288', 'client_tax_id': '914-75-0393', 'iban': 'GB42KUJL76533439438067'}, 'items': [{'item_desc': '10-Core Gaming Computer Desktop PC Tower 500 GB Quad 8GB AMD R7 GRAPHICS NEW', 'item_qty': '2,00', 'item_net_price': '501,32', 'item_net_worth': '1002,64', 'item_vat': '10%', 'item_gross_worth': '1 102,90'}], 'summary': {'total_net_worth': '$1002,64', 'total_vat': '$ 100,26', 'total_gross_worth': '$1102,90'}}\\n\"),\n",
      " Document(metadata={'_id': '6722888f4c84a04060eab508', 'id': '120', 'image_height': 3508, 'image_width': 2481}, page_content=\"invoice_id: 120\\nparsed_data: {'header': {'invoice_no': '19961329', 'invoice_date': '02/24/2015', 'seller': 'Martin Group 065 Anthony Prairie Morganfurt, AR 58377', 'client': 'Cox-Hall 084 Trevor Motorway West Elizabethbury, MO 57836', 'seller_tax_id': '935-96-4412', 'client_tax_id': '926-74-0828', 'iban': 'GB89ANAY72028493089829'}, 'items': [{'item_desc': 'Boden black blue floral short sleeve dress size 6', 'item_qty': '1,00', 'item_net_price': '36,99', 'item_net_worth': '36,99', 'item_vat': '10%', 'item_gross_worth': '40,69'}], 'summary': {'total_net_worth': '$ 36,99', 'total_vat': '$ 3,70', 'total_gross_worth': '$40,69'}}\\n\")]\n"
     ]
    }
   ],
   "source": [
    "# Instantiate the Vector Search as a Retriever\n",
    "retriever = vector_store.as_retriever(\n",
    "    search_type = \"similarity\",\n",
    "    search_kwargs = { \"k\": 5 }\n",
    ")\n",
    "\n",
    "# Define a prompt template\n",
    "template = \"\"\"\n",
    "Use the following pieces of context to answer the question at the end.\n",
    "If you don't know the answer, just say that you don't know. Don't try to make up an answer.\n",
    "{context}\n",
    "Question: {question}\n",
    "\"\"\"\n",
    "custom_rag_prompt = PromptTemplate.from_template(template)\n",
    "\n",
    "llm = ChatOpenAI(model=\"gpt-4o-mini\", temperature=0)\n",
    "\n",
    "def format_docs(docs):\n",
    "    formatted_docs = []\n",
    "    for doc in docs:\n",
    "        formatted_doc = f\"Invoice ID: {doc.metadata['id']}\\n\"\n",
    "        formatted_doc += f\"Content: {doc.page_content}\\n\"\n",
    "        formatted_docs.append(formatted_doc)\n",
    "    return \"\\n\\n\".join(formatted_docs)\n",
    "\n",
    "# construct a chain to answer questions on your data\n",
    "rag_chain = (\n",
    "    { \"context\": retriever | format_docs, \"question\": RunnablePassthrough() }\n",
    "    | custom_rag_prompt\n",
    "    | llm\n",
    "    | StrOutputParser()\n",
    ")\n",
    "\n",
    "# Prompt the chain with a query\n",
    "# question = \"Whos is the seller for invoice no: 40378170\"\n",
    "question = \"what is the invoice number for the seller that has the following description: 'Patel, Thompson and Montgomery 356 Kyle Vista New James, MA 46228'\"\n",
    "answer = rag_chain.invoke(question)\n",
    "\n",
    "print(\"Question:\" + question)\n",
    "print(\"Answer:\" + answer)\n",
    "\n",
    "# return source documents\n",
    "documents = retriever.invoke(question)\n",
    "print(\"\\nSource documents:\")\n",
    "pprint.pprint(documents)"
   ]
  },
  {
   "cell_type": "markdown",
   "metadata": {},
   "source": [
    "### RAG with Filtering\n",
    "\n",
    "This example does the following:\n",
    "\n",
    "- Instantiates Atlas Vector Search as a retriever to query for similar documents, including the following optional parameters:\n",
    "\n",
    "  - `k` to search for only the `5` most relevant documents.\n",
    "\n",
    "  - `score_threshold` to use only documents with a relevance score above `0.75`.\n",
    "\n",
    "    - Note\n",
    "    This parameter refers to a relevance score that Langchain uses to normalize your results, and not the relevance score used in Atlas Search queries. To use Atlas Search scores in your RAG implementation, define a custom retriever that uses the similarity_search_with_score method and filters by the Atlas Search score.\n",
    "\n",
    "  - `pre_filter` to filter on the  `id` field for documents that appear with id `0` only.\n",
    "\n",
    "- Defines a LangChain prompt template to instruct the LLM to use these documents as context for your query. LangChain passes these documents to the  `{context}` input variable and your query to the `{question}` variable.\n",
    "\n",
    "- Constructs a chain that specifies the following:\n",
    "\n",
    "  - Atlas Vector Search as the retriever to search for documents that are used as context by the LLM.\n",
    "\n",
    "  - The prompt template that you constructed.\n",
    "\n",
    "  - OpenAI's chat model as the LLM used to generate a context-aware response.\n",
    "\n",
    "- Prompts the chain with a sample query about Atlas security recommendations.\n",
    "\n",
    "- Returns the LLM's response and the documents used as context. The generated response might vary.\n"
   ]
  },
  {
   "cell_type": "code",
   "execution_count": 27,
   "metadata": {},
   "outputs": [
    {
     "name": "stdout",
     "output_type": "stream",
     "text": [
      "Question: what is the invoice number for the seller that has the following description: 'Patel, Thompson and Montgomery 356 Kyle Vista New James, MA 46228'\n",
      "Answer: The invoice number for the seller 'Patel, Thompson and Montgomery 356 Kyle Vista New James, MA 46228' is 40378170.\n",
      "\n",
      "Source documents:\n",
      "[Document(metadata={'_id': '6722888f4c84a04060eab4ef', 'id': '0', 'image_height': 3508, 'image_width': 2481}, page_content='invoice_id: 0\\nparsed_data: {\\'header\\': {\\'invoice_no\\': \\'40378170\\', \\'invoice_date\\': \\'10/15/2012\\', \\'seller\\': \\'Patel, Thompson and Montgomery 356 Kyle Vista New James, MA 46228\\', \\'client\\': \\'Jackson, Odonnell and Jackson 267 John Track Suite 841 Jenniferville, PA 98601\\', \\'seller_tax_id\\': \\'958-74-3511\\', \\'client_tax_id\\': \\'998-87-7723\\', \\'iban\\': \\'GB77WRBQ31965128414006\\'}, \\'items\\': [{\\'item_desc\\': \"Leed\\'s Wine Companion Bottle Corkscrew Opener Gift Box Set with Foil Cutter\", \\'item_qty\\': \\'1,00\\', \\'item_net_price\\': \\'7,50\\', \\'item_net_worth\\': \\'7,50\\', \\'item_vat\\': \\'10%\\', \\'item_gross_worth\\': \\'8,25\\'}], \\'summary\\': {\\'total_net_worth\\': \\'$7,50\\', \\'total_vat\\': \\'$0,75\\', \\'total_gross_worth\\': \\'$8,25\\'}}\\n')]\n"
     ]
    }
   ],
   "source": [
    "# Instantiate Atlas Vector Search as a retriever\n",
    "retriever = vector_store.as_retriever(\n",
    "   search_type = \"similarity_score_threshold\",\n",
    "   search_kwargs = {\n",
    "      \"k\": 10,\n",
    "      \"score_threshold\": 0.1,\n",
    "      \"pre_filter\": { \"id\": { \"$in\": [\"0\"] } }\n",
    "   }\n",
    ")\n",
    "\n",
    "# Define a prompt template\n",
    "template = \"\"\"\n",
    "Use the following pieces of context to answer the question at the end.\n",
    "If you don't know the answer, just say that you don't know, don't try to make up an answer.\n",
    "{context}\n",
    "Question: {question}\n",
    "\"\"\"\n",
    "custom_rag_prompt = PromptTemplate.from_template(template)\n",
    "\n",
    "llm = ChatOpenAI(model=\"gpt-4o\")\n",
    "\n",
    "def format_docs(docs):\n",
    "    formatted_docs = []\n",
    "    for doc in docs:\n",
    "        formatted_doc = f\"Invoice ID: {doc.metadata['id']}\\n\"\n",
    "        formatted_doc += f\"Content: {doc.page_content}\\n\"\n",
    "        formatted_docs.append(formatted_doc)\n",
    "    return \"\\n\\n\".join(formatted_docs)\n",
    "\n",
    "# Construct a chain to answer questions on your data\n",
    "rag_chain = (\n",
    "   { \"context\": retriever | format_docs, \"question\": RunnablePassthrough()}\n",
    "   | custom_rag_prompt\n",
    "   | llm\n",
    "   | StrOutputParser()\n",
    ")\n",
    "\n",
    "# Prompt the chain\n",
    "# question = \"Whos is the seller for invoice no: 40378170\"\n",
    "question = \"what is the invoice number for the seller that has the following description: 'Patel, Thompson and Montgomery 356 Kyle Vista New James, MA 46228'\"\n",
    "answer = rag_chain.invoke(question)\n",
    "\n",
    "print(\"Question: \" + question)\n",
    "print(\"Answer: \" + answer)\n",
    "\n",
    "# Return source documents\n",
    "documents = retriever.invoke(question)\n",
    "print(\"\\nSource documents:\")\n",
    "pprint.pprint(documents)"
   ]
  },
  {
   "cell_type": "code",
   "execution_count": null,
   "metadata": {},
   "outputs": [],
   "source": [
    "# def setup_rag_pipeline(vector_store, config: Config):\n",
    "#     retriever = vector_store.as_retriever(\n",
    "#         search_type=\"similarity\",\n",
    "#         search_kwargs={\"k\": config.RETRIEVER_K}\n",
    "#     )\n",
    "\n",
    "#     template = \"\"\"\n",
    "#     You are an AI assistant analyzing invoice data. Use the following context to answer the question.\n",
    "#     If the answer cannot be determined from the context, say \"I cannot answer this based on the available information.\"\n",
    "    \n",
    "#     Context:\n",
    "#     {context}\n",
    "    \n",
    "#     Question: {question}\n",
    "    \n",
    "#     Remember to:\n",
    "#     - Only use information from the provided context\n",
    "#     - Be specific and cite invoice IDs when relevant\n",
    "#     - Indicate if any information is unclear or missing\n",
    "    \n",
    "#     Answer:\n",
    "#     \"\"\"\n",
    "#     custom_rag_prompt = PromptTemplate.from_template(template)\n",
    "\n",
    "#     llm = ChatOpenAI(\n",
    "#         model=config.LLM_MODEL, \n",
    "#         temperature=config.LLM_TEMPERATURE,\n",
    "#         request_timeout=config.REQUEST_TIMEOUT,\n",
    "#         max_retries=config.MAX_RETRIES\n",
    "#     )\n",
    "\n",
    "#     def format_docs(docs):\n",
    "#         formatted_docs = []\n",
    "#         for doc in docs:\n",
    "#             formatted_doc = f\"Invoice ID: {doc.metadata['id']}\\n\"\n",
    "#             formatted_doc += f\"Content: {doc.page_content}\\n\"\n",
    "#             formatted_docs.append(formatted_doc)\n",
    "#         return \"\\n\\n\".join(formatted_docs)\n",
    "\n",
    "#     rag_chain = (\n",
    "#         {\"context\": retriever | format_docs, \"question\": RunnablePassthrough()}\n",
    "#         | custom_rag_prompt\n",
    "#         | llm\n",
    "#         | StrOutputParser()\n",
    "#     )\n",
    "\n",
    "#     return rag_chain, retriever"
   ]
  }
 ],
 "metadata": {
  "kernelspec": {
   "display_name": "Langchain Service Environment",
   "language": "python",
   "name": "langchain_service_env"
  },
  "language_info": {
   "codemirror_mode": {
    "name": "ipython",
    "version": 3
   },
   "file_extension": ".py",
   "mimetype": "text/x-python",
   "name": "python",
   "nbconvert_exporter": "python",
   "pygments_lexer": "ipython3",
   "version": "3.9.6"
  }
 },
 "nbformat": 4,
 "nbformat_minor": 2
}
