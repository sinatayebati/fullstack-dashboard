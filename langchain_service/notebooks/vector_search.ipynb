{
 "cells": [
  {
   "cell_type": "code",
   "execution_count": 1,
   "id": "d85f2f68-3140-45ce-8051-d4e1442283a4",
   "metadata": {},
   "outputs": [
    {
     "name": "stderr",
     "output_type": "stream",
     "text": [
      "/Users/sina/.local/share/virtualenvs/langchain_service-n5mYIKcu/lib/python3.9/site-packages/urllib3/__init__.py:35: NotOpenSSLWarning: urllib3 v2 only supports OpenSSL 1.1.1+, currently the 'ssl' module is compiled with 'LibreSSL 2.8.3'. See: https://github.com/urllib3/urllib3/issues/3020\n",
      "  warnings.warn(\n"
     ]
    }
   ],
   "source": [
    "import getpass, os, pymongo, pprint\n",
    "from langchain_community.document_loaders import PyPDFLoader\n",
    "from langchain_core.output_parsers import StrOutputParser\n",
    "from langchain_core.runnables import RunnablePassthrough\n",
    "from langchain_mongodb import MongoDBAtlasVectorSearch\n",
    "from langchain_openai import ChatOpenAI, OpenAIEmbeddings\n",
    "from langchain.prompts import PromptTemplate\n",
    "from langchain.text_splitter import RecursiveCharacterTextSplitter\n",
    "from pymongo import MongoClient\n",
    "from pymongo.operations import SearchIndexModel"
   ]
  },
  {
   "cell_type": "code",
   "execution_count": 2,
   "id": "eee00533",
   "metadata": {},
   "outputs": [],
   "source": [
    "os.environ[\"OPENAI_API_KEY\"] = getpass.getpass(\"OpenAI API Key:\")\n",
    "ATLAS_CONNECTION_STRING = getpass.getpass(\"MongoDB Atlas SRV Connection String:\")"
   ]
  },
  {
   "cell_type": "code",
   "execution_count": 3,
   "id": "d59cc4da",
   "metadata": {},
   "outputs": [],
   "source": [
    "# Connect to your Atlas cluster\n",
    "client = MongoClient(ATLAS_CONNECTION_STRING)\n",
    "\n",
    "# Define collection and index name\n",
    "db_name = \"langchain_db\"\n",
    "collection_name = \"test\"\n",
    "atlas_collection = client[db_name][collection_name]\n",
    "vector_search_index = \"vector_index\""
   ]
  },
  {
   "cell_type": "code",
   "execution_count": 4,
   "id": "1247de5b",
   "metadata": {},
   "outputs": [
    {
     "data": {
      "text/plain": [
       "Document(metadata={'source': 'https://query.prod.cms.rt.microsoft.com/cms/api/am/binary/RE4HkJP', 'page': 0}, page_content='Mong oDB Atlas Best P racticesJanuary 20 19A MongoD B White P aper')"
      ]
     },
     "execution_count": 4,
     "metadata": {},
     "output_type": "execute_result"
    }
   ],
   "source": [
    "# Load the PDF\n",
    "loader = PyPDFLoader(\"https://query.prod.cms.rt.microsoft.com/cms/api/am/binary/RE4HkJP\")\n",
    "data = loader.load()\n",
    "\n",
    "# Split PDF into documents\n",
    "text_splitter = RecursiveCharacterTextSplitter(chunk_size=200, chunk_overlap=20)\n",
    "docs = text_splitter.split_documents(data)\n",
    "\n",
    "# Print the first document\n",
    "docs[0]"
   ]
  },
  {
   "cell_type": "code",
   "execution_count": 5,
   "id": "4d03c196",
   "metadata": {},
   "outputs": [],
   "source": [
    "# Create the vector store\n",
    "vector_store = MongoDBAtlasVectorSearch.from_documents(\n",
    "    documents = docs,\n",
    "    embedding = OpenAIEmbeddings(disallowed_special=()),\n",
    "    collection = atlas_collection,\n",
    "    index_name = vector_search_index\n",
    ")"
   ]
  },
  {
   "cell_type": "code",
   "execution_count": 9,
   "id": "3b6ffb01",
   "metadata": {},
   "outputs": [
    {
     "data": {
      "text/plain": [
       "'vector_index'"
      ]
     },
     "execution_count": 9,
     "metadata": {},
     "output_type": "execute_result"
    }
   ],
   "source": [
    "# Create your index model, then create the search index\n",
    "search_index_model = SearchIndexModel(\n",
    "    definition ={\n",
    "        \"fields\": [\n",
    "            {\n",
    "                \"type\": \"vector\",\n",
    "                \"path\": \"embedding\",\n",
    "                \"numDimensions\": 1536,\n",
    "                \"similarity\": \"cosine\"\n",
    "            },\n",
    "            {\n",
    "                \"type\": \"filter\",\n",
    "                \"path\": \"page\",\n",
    "            }\n",
    "        ]\n",
    "    },\n",
    "    name=\"vector_index\",\n",
    "    type=\"vectorSearch\"\n",
    ")\n",
    "\n",
    "atlas_collection.create_search_index(model=search_index_model)"
   ]
  },
  {
   "cell_type": "markdown",
   "id": "9dd0272e",
   "metadata": {},
   "source": [
    "### Semantic Search"
   ]
  },
  {
   "cell_type": "code",
   "execution_count": 10,
   "id": "44e8b14a",
   "metadata": {},
   "outputs": [
    {
     "name": "stdout",
     "output_type": "stream",
     "text": [
      "[Document(metadata={'_id': '66ece73cdf3f150de153174d', 'source': 'https://query.prod.cms.rt.microsoft.com/cms/api/am/binary/RE4HkJP', 'page': 17}, page_content='To ensure a secure system right out of the b ox,\\nauthentication and I P Address whitelisting are\\nautomatically enabled.\\nReview the security section of the MongoD B Atlas'),\n",
      " Document(metadata={'_id': '66ece73cdf3f150de1531718', 'source': 'https://query.prod.cms.rt.microsoft.com/cms/api/am/binary/RE4HkJP', 'page': 15}, page_content='MongoD B Atlas team are also monitoring the underlying\\ninfrastructure, ensuring that it is always in a healthy state.\\nApplication L ogs And Database L ogs'),\n",
      " Document(metadata={'_id': '66ece73cdf3f150de15316fb', 'source': 'https://query.prod.cms.rt.microsoft.com/cms/api/am/binary/RE4HkJP', 'page': 13}, page_content='MongoD B.\\nMongoD B Atlas incorporates best practices to help keep\\nmanaged databases healthy and optimized. T hey ensure\\noperational continuity by converting comple x manual tasks'),\n",
      " Document(metadata={'_id': '66ece73cdf3f150de153175b', 'source': 'https://query.prod.cms.rt.microsoft.com/cms/api/am/binary/RE4HkJP', 'page': 18}, page_content='Atlas provides encryption of data at rest with encrypted\\nstorage volumes.\\nOptionally , Atlas users can configure an additional layer of\\nencryption on their data at rest using the MongoD B')]\n"
     ]
    }
   ],
   "source": [
    "query = \"MongoDB Atlas secutiry\"\n",
    "results = vector_store.similarity_search(query)\n",
    "\n",
    "pprint.pprint(results)"
   ]
  },
  {
   "cell_type": "markdown",
   "id": "0815a13d",
   "metadata": {},
   "source": [
    "### Semantic Search with Score"
   ]
  },
  {
   "cell_type": "code",
   "execution_count": 12,
   "id": "e8b7a84c",
   "metadata": {},
   "outputs": [
    {
     "name": "stdout",
     "output_type": "stream",
     "text": [
      "[(Document(metadata={'_id': '66ece73cdf3f150de153174d', 'source': 'https://query.prod.cms.rt.microsoft.com/cms/api/am/binary/RE4HkJP', 'page': 17}, page_content='To ensure a secure system right out of the b ox,\\nauthentication and I P Address whitelisting are\\nautomatically enabled.\\nReview the security section of the MongoD B Atlas'),\n",
      "  0.9355283379554749),\n",
      " (Document(metadata={'_id': '66ece73cdf3f150de1531718', 'source': 'https://query.prod.cms.rt.microsoft.com/cms/api/am/binary/RE4HkJP', 'page': 15}, page_content='MongoD B Atlas team are also monitoring the underlying\\ninfrastructure, ensuring that it is always in a healthy state.\\nApplication L ogs And Database L ogs'),\n",
      "  0.9292968511581421),\n",
      " (Document(metadata={'_id': '66ece73cdf3f150de15316fb', 'source': 'https://query.prod.cms.rt.microsoft.com/cms/api/am/binary/RE4HkJP', 'page': 13}, page_content='MongoD B.\\nMongoD B Atlas incorporates best practices to help keep\\nmanaged databases healthy and optimized. T hey ensure\\noperational continuity by converting comple x manual tasks'),\n",
      "  0.9292681217193604)]\n"
     ]
    }
   ],
   "source": [
    "query = \"MongoDB Atlas secutiry\"\n",
    "results = vector_store.similarity_search_with_score(\n",
    "    query = query, k = 3\n",
    ")\n",
    "\n",
    "pprint.pprint(results)"
   ]
  },
  {
   "cell_type": "markdown",
   "id": "3dfcc814",
   "metadata": {},
   "source": [
    "### Semantic Search with Filter"
   ]
  },
  {
   "cell_type": "code",
   "execution_count": 13,
   "id": "a9e0e455",
   "metadata": {},
   "outputs": [
    {
     "name": "stdout",
     "output_type": "stream",
     "text": [
      "[(Document(metadata={'_id': '66ece73cdf3f150de153174d', 'source': 'https://query.prod.cms.rt.microsoft.com/cms/api/am/binary/RE4HkJP', 'page': 17}, page_content='To ensure a secure system right out of the b ox,\\nauthentication and I P Address whitelisting are\\nautomatically enabled.\\nReview the security section of the MongoD B Atlas'),\n",
      "  0.9355283379554749),\n",
      " (Document(metadata={'_id': '66ece73cdf3f150de1531748', 'source': 'https://query.prod.cms.rt.microsoft.com/cms/api/am/binary/RE4HkJP', 'page': 17}, page_content='Security\\nAs with all software, MongoD B administrators must\\nconsider security and risk e xposure for a MongoD B\\ndeployment. T here are no magic solutions for risk'),\n",
      "  0.9219629764556885),\n",
      " (Document(metadata={'_id': '66ece73cdf3f150de153174a', 'source': 'https://query.prod.cms.rt.microsoft.com/cms/api/am/binary/RE4HkJP', 'page': 17}, page_content='number of diff erent methods for managing risk and\\nreducing risk e xposure.\\nMongoD B Atlas f eatures e xtensive capabilities to def end,\\ndetect, and control access to MongoD B, off ering among'),\n",
      "  0.9196026921272278)]\n"
     ]
    }
   ],
   "source": [
    "query = \"MongoDB Atlas secutiry\"\n",
    "\n",
    "results = vector_store.similarity_search_with_score(\n",
    "    query = query,\n",
    "    k = 3,\n",
    "    pre_filter = { \"page\": { \"$eq\": 17 } }\n",
    ")\n",
    "\n",
    "pprint.pprint(results)"
   ]
  },
  {
   "cell_type": "markdown",
   "id": "a068c66c",
   "metadata": {},
   "source": [
    "### Basic RAG\n",
    "\n",
    "This example does the following:\n",
    "\n",
    "- Instantiates Atlas Vector Search as a retriever to query for similar documents, including the optional k parameter to search for only the 10 most relevant documents.\n",
    "\n",
    "- Defines a LangChain prompt template to instruct the LLM to use these documents as context for your query. LangChain passes these documents to the {context} input variable and your query to the {question} variable.\n",
    "\n",
    "- Constructs a chain that specifies the following:\n",
    "\n",
    "  - Atlas Vector Search as the retriever to search for documents that are used as context by the LLM.\n",
    "\n",
    "  - The prompt template that you constructed.\n",
    "\n",
    "  - OpenAI's chat model as the LLM used to generate a context-aware response.\n",
    "\n",
    "- Prompts the chain with a sample query about Atlas security recommendations.\n",
    "\n",
    "- Returns the LLM's response and the documents used as context. The generated response might vary.\n"
   ]
  },
  {
   "cell_type": "code",
   "execution_count": 16,
   "id": "cbd9e103",
   "metadata": {},
   "outputs": [
    {
     "name": "stdout",
     "output_type": "stream",
     "text": [
      "Question:How can I secure my MongoDB Atlas cluster?\n",
      "Answer:To secure your MongoDB Atlas cluster, you can take the following steps:\n",
      "\n",
      "1. **Enable Authentication**: Ensure that authentication is enabled, which is automatically done by MongoDB Atlas.\n",
      "\n",
      "2. **IP Address Whitelisting**: Use IP address whitelisting to restrict access to your cluster, which is also automatically enabled.\n",
      "\n",
      "3. **Encryption**: Utilize the built-in encryption of data at rest with encrypted storage volumes. Optionally, configure an additional layer of encryption on your data at rest using MongoDB.\n",
      "\n",
      "4. **Monitor Logs**: Regularly review application logs and database logs for any suspicious activity.\n",
      "\n",
      "5. **Replica Sets**: Set up replica sets with a minimum of 3 nodes to enhance protection against database downtime and ensure high availability.\n",
      "\n",
      "6. **Follow Best Practices**: Incorporate best practices for managing and securing your databases as recommended by MongoDB Atlas.\n",
      "\n",
      "7. **Continuous Monitoring**: Take advantage of the MongoDB Atlas team's monitoring of the underlying infrastructure to maintain a healthy state.\n",
      "\n",
      "8. **Regular Updates**: Keep your deployment up to date with the latest security patches and features.\n",
      "\n",
      "By following these steps, you can enhance the security of your MongoDB Atlas cluster.\n",
      "\n",
      "Source documents:\n",
      "[Document(metadata={'_id': '66ece73cdf3f150de153174d', 'source': 'https://query.prod.cms.rt.microsoft.com/cms/api/am/binary/RE4HkJP', 'page': 17}, page_content='To ensure a secure system right out of the b ox,\\nauthentication and I P Address whitelisting are\\nautomatically enabled.\\nReview the security section of the MongoD B Atlas'),\n",
      " Document(metadata={'_id': '66ece73cdf3f150de1531718', 'source': 'https://query.prod.cms.rt.microsoft.com/cms/api/am/binary/RE4HkJP', 'page': 15}, page_content='MongoD B Atlas team are also monitoring the underlying\\ninfrastructure, ensuring that it is always in a healthy state.\\nApplication L ogs And Database L ogs'),\n",
      " Document(metadata={'_id': '66ece73cdf3f150de1531706', 'source': 'https://query.prod.cms.rt.microsoft.com/cms/api/am/binary/RE4HkJP', 'page': 14}, page_content='All the user needs to do in order for MongoD B Atlas to\\nautomatically deploy the cluster is to select a handful of\\noptions:\\n•Instance size\\n•Storage size (optional)\\n•Storage speed (optional)'),\n",
      " Document(metadata={'_id': '66ece73cdf3f150de15316fb', 'source': 'https://query.prod.cms.rt.microsoft.com/cms/api/am/binary/RE4HkJP', 'page': 13}, page_content='MongoD B.\\nMongoD B Atlas incorporates best practices to help keep\\nmanaged databases healthy and optimized. T hey ensure\\noperational continuity by converting comple x manual tasks'),\n",
      " Document(metadata={'_id': '66ece73cdf3f150de15316d2', 'source': 'https://query.prod.cms.rt.microsoft.com/cms/api/am/binary/RE4HkJP', 'page': 12}, page_content='You can set up global clusters — available on Amazon W eb\\nServices, Microsoft Azure, and Google Cloud Platform —\\nwith just a f ew clic ks in the MongoD B Atlas U I. MongoD B'),\n",
      " Document(metadata={'_id': '66ece73cdf3f150de15315ed', 'source': 'https://query.prod.cms.rt.microsoft.com/cms/api/am/binary/RE4HkJP', 'page': 1}, page_content='Table of Contents\\n1 Introduction\\n2 Preparing for a MongoD B Deployment\\n9 Scaling a MongoD B Atlas Cluster\\n11 Continuous A vailability & Data Consistency\\n12 Managing MongoD B\\n16 Security'),\n",
      " Document(metadata={'_id': '66ece73cdf3f150de15316fa', 'source': 'https://query.prod.cms.rt.microsoft.com/cms/api/am/binary/RE4HkJP', 'page': 13}, page_content='Disaster Recovery\\nCreated by the engineers who develop the database,\\nMongoD B Atlas is the simplest way to run MongoD B,\\nmaking it easy to deploy , monitor , backup, and scale\\nMongoD B.'),\n",
      " Document(metadata={'_id': '66ece73cdf3f150de153175b', 'source': 'https://query.prod.cms.rt.microsoft.com/cms/api/am/binary/RE4HkJP', 'page': 18}, page_content='Atlas provides encryption of data at rest with encrypted\\nstorage volumes.\\nOptionally , Atlas users can configure an additional layer of\\nencryption on their data at rest using the MongoD B'),\n",
      " Document(metadata={'_id': '66ece73cdf3f150de1531748', 'source': 'https://query.prod.cms.rt.microsoft.com/cms/api/am/binary/RE4HkJP', 'page': 17}, page_content='Security\\nAs with all software, MongoD B administrators must\\nconsider security and risk e xposure for a MongoD B\\ndeployment. T here are no magic solutions for risk'),\n",
      " Document(metadata={'_id': '66ece73cdf3f150de15316e1', 'source': 'https://query.prod.cms.rt.microsoft.com/cms/api/am/binary/RE4HkJP', 'page': 12}, page_content='A larger number of replica nodes provides increased\\nprotection against database downtime in case of multiple\\nmachine failures.\\nMongoD B Atlas replica sets have a minimum of 3 nodes')]\n"
     ]
    }
   ],
   "source": [
    "# Instantiate the Vector Search as a Retriever\n",
    "retriever = vector_store.as_retriever(\n",
    "    search_type = \"similarity\",\n",
    "    search_kwargs = { \"k\": 10 }\n",
    ")\n",
    "\n",
    "# Define a prompt template\n",
    "template = \"\"\"\n",
    "Use the following pieces of context to answer the question at the end.\n",
    "If you don't know the answer, just say that you don't know. Don't try to make up an answer.\n",
    "{context}\n",
    "Question: {question}\n",
    "\"\"\"\n",
    "custom_rag_prompt = PromptTemplate.from_template(template)\n",
    "\n",
    "llm = ChatOpenAI(model=\"gpt-4o-mini\")\n",
    "\n",
    "def format_docs(docs):\n",
    "    return \"\\n\\n\".join(doc.page_content for doc in docs)\n",
    "\n",
    "# construct a chain to answer questions on your data\n",
    "rag_chain = (\n",
    "    { \"context\": retriever | format_docs, \"question\": RunnablePassthrough() }\n",
    "    | custom_rag_prompt\n",
    "    | llm\n",
    "    | StrOutputParser()\n",
    ")\n",
    "\n",
    "# Prompt the chain with a query\n",
    "question = \"How can I secure my MongoDB Atlas cluster?\"\n",
    "answer = rag_chain.invoke(question)\n",
    "\n",
    "print(\"Question:\" + question)\n",
    "print(\"Answer:\" + answer)\n",
    "\n",
    "# return source documents\n",
    "documents = retriever.invoke(question)\n",
    "print(\"\\nSource documents:\")\n",
    "pprint.pprint(documents)\n",
    "\n",
    "\n",
    "\n",
    "\n",
    "\n",
    "\n",
    "\n"
   ]
  },
  {
   "cell_type": "markdown",
   "id": "b1651fa5",
   "metadata": {},
   "source": [
    "### RAG with Filtering\n",
    "\n",
    "This example does the following:\n",
    "\n",
    "- Instantiates Atlas Vector Search as a retriever to query for similar documents, including the following optional parameters:\n",
    "\n",
    "  - `k` to search for only the `10` most relevant documents.\n",
    "\n",
    "  - `score_threshold` to use only documents with a relevance score above `0.75`.\n",
    "\n",
    "    - Note\n",
    "    This parameter refers to a relevance score that Langchain uses to normalize your results, and not the relevance score used in Atlas Search queries. To use Atlas Search scores in your RAG implementation, define a custom retriever that uses the similarity_search_with_score method and filters by the Atlas Search score.\n",
    "\n",
    "  - `pre_filter` to filter on the  `page` field for documents that appear on page `17` only.\n",
    "\n",
    "- Defines a LangChain prompt template to instruct the LLM to use these documents as context for your query. LangChain passes these documents to the  `{context}` input variable and your query to the `{question}` variable.\n",
    "\n",
    "- Constructs a chain that specifies the following:\n",
    "\n",
    "  - Atlas Vector Search as the retriever to search for documents that are used as context by the LLM.\n",
    "\n",
    "  - The prompt template that you constructed.\n",
    "\n",
    "  - OpenAI's chat model as the LLM used to generate a context-aware response.\n",
    "\n",
    "- Prompts the chain with a sample query about Atlas security recommendations.\n",
    "\n",
    "- Returns the LLM's response and the documents used as context. The generated response might vary.\n"
   ]
  },
  {
   "cell_type": "code",
   "execution_count": 23,
   "id": "5e0a1e9b",
   "metadata": {},
   "outputs": [
    {
     "name": "stderr",
     "output_type": "stream",
     "text": [
      "No relevant docs were retrieved using the relevance score threshold 0.75\n"
     ]
    },
    {
     "name": "stdout",
     "output_type": "stream",
     "text": [
      "Question: How can I secure my MongoDB Atlas cluster?\n",
      "Answer: To secure your MongoDB Atlas cluster, consider implementing the following best practices:\n",
      "\n",
      "1. **Enable IP Whitelisting**: Restrict access to your cluster by specifying which IP addresses can connect. You can add specific IP addresses or ranges in the Network Access section of your Atlas project.\n",
      "\n",
      "2. **Use Database Users with Role-Based Access Control**: Create database users with specific roles that grant only the necessary permissions. Avoid using the default admin user for application access.\n",
      "\n",
      "3. **Enable Authentication**: Ensure that authentication is enabled for your cluster. MongoDB Atlas enables authentication by default, but it's important to configure it correctly.\n",
      "\n",
      "4. **Use TLS/SSL for Data Encryption in Transit**: Ensure that connections to your MongoDB Atlas cluster use TLS/SSL to encrypt data in transit.\n",
      "\n",
      "5. **Enable Encryption at Rest**: MongoDB Atlas provides built-in encryption for data at rest. Make sure this feature is enabled to protect your data stored on disk.\n",
      "\n",
      "6. **Monitor and Audit Logs**: Use MongoDB Atlas's monitoring and logging features to keep track of access patterns and detect any unusual activity.\n",
      "\n",
      "7. **Regularly Update Your Application and Dependencies**: Keep your application and any dependencies up to date to protect against vulnerabilities.\n",
      "\n",
      "8. **Implement Backup and Disaster Recovery Plans**: Use the backup features provided by MongoDB Atlas to ensure that you can restore your data in case of accidental deletion or other disasters.\n",
      "\n",
      "9. **Use Virtual Private Cloud (VPC)**: When using MongoDB Atlas, deploy your cluster in a VPC for added network security.\n",
      "\n",
      "By following these practices, you can enhance the security of your MongoDB Atlas cluster.\n"
     ]
    },
    {
     "name": "stderr",
     "output_type": "stream",
     "text": [
      "No relevant docs were retrieved using the relevance score threshold 0.75\n"
     ]
    },
    {
     "name": "stdout",
     "output_type": "stream",
     "text": [
      "\n",
      "Source documents:\n",
      "[]\n"
     ]
    }
   ],
   "source": [
    "# Instantiate Atlas Vector Search as a retriever\n",
    "retriever = vector_store.as_retriever(\n",
    "   search_type = \"similarity_score_threshold\",\n",
    "   search_kwargs = {\n",
    "      \"k\": 10,\n",
    "      \"score_threshold\": 0.75,\n",
    "      \"pre_filter\": { \"page\": { \"$eq\": 17 } }\n",
    "   }\n",
    ")\n",
    "\n",
    "# Define a prompt template\n",
    "template = \"\"\"\n",
    "Use the following pieces of context to answer the question at the end.\n",
    "If you don't know the answer, just say that you don't know, don't try to make up an answer.\n",
    "{context}\n",
    "Question: {question}\n",
    "\"\"\"\n",
    "custom_rag_prompt = PromptTemplate.from_template(template)\n",
    "\n",
    "llm = ChatOpenAI(model=\"gpt-4o-mini\")\n",
    "\n",
    "def format_docs(docs):\n",
    "   return \"\\n\\n\".join(doc.page_content for doc in docs)\n",
    "\n",
    "# Construct a chain to answer questions on your data\n",
    "rag_chain = (\n",
    "   { \"context\": retriever | format_docs, \"question\": RunnablePassthrough()}\n",
    "   | custom_rag_prompt\n",
    "   | llm\n",
    "   | StrOutputParser()\n",
    ")\n",
    "\n",
    "# Prompt the chain\n",
    "question = \"How can I secure my MongoDB Atlas cluster?\"\n",
    "answer = rag_chain.invoke(question)\n",
    "\n",
    "print(\"Question: \" + question)\n",
    "print(\"Answer: \" + answer)\n",
    "\n",
    "# Return source documents\n",
    "documents = retriever.invoke(question)\n",
    "print(\"\\nSource documents:\")\n",
    "pprint.pprint(documents)"
   ]
  }
 ],
 "metadata": {
  "kernelspec": {
   "display_name": "Langchain Service Environment",
   "language": "python",
   "name": "langchain_service_env"
  },
  "language_info": {
   "codemirror_mode": {
    "name": "ipython",
    "version": 3
   },
   "file_extension": ".py",
   "mimetype": "text/x-python",
   "name": "python",
   "nbconvert_exporter": "python",
   "pygments_lexer": "ipython3",
   "version": "3.9.6"
  }
 },
 "nbformat": 4,
 "nbformat_minor": 5
}
